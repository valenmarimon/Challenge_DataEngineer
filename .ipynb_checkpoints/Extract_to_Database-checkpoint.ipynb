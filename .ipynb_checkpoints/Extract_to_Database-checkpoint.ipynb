{
 "cells": [
  {
   "cell_type": "code",
   "execution_count": 8,
   "id": "1ecf1e93",
   "metadata": {},
   "outputs": [
    {
     "data": {
      "text/plain": [
       "<pyodbc.Cursor at 0x209475d33b0>"
      ]
     },
     "execution_count": 8,
     "metadata": {},
     "output_type": "execute_result"
    }
   ],
   "source": [
    "import pandas as pd\n",
    "import pyodbc\n",
    "import socket\n",
    "\n",
    "url = 'trips.csv'\n",
    "df = pd.read_csv(url)\n",
    "\n",
    "#Create connection to local server\n",
    "try:\n",
    "    conn = pyodbc.connect('Driver={SQL Server};Server='+servername+';Database=Test;Trusted_Connection=yes;')\n",
    "    cursor = conn.cursor()\n",
    "except:\n",
    "    print('Error when connecting to Local Server: ' + str(servername))\n",
    "\n",
    "# Excecute insert into Table Trips\n",
    "try:\n",
    "    for row in df.itertuples():\n",
    "        cursor.execute('''\n",
    "                    INSERT INTO Trips (region, origin_coord, destination_coord,date_time,datasource)\n",
    "                    VALUES (?,?,?,?,?)\n",
    "                    ''',\n",
    "                    row.region, \n",
    "                    row.origin_coord,\n",
    "                    row.destination_coord,\n",
    "                    row.datetime,\n",
    "                    row.datasource\n",
    "                    )\n",
    "    conn.commit()\n",
    "    \n",
    "    print('The records were inserted successfully into the SQL database')\n",
    "except:\n",
    "    print('Error during the insertion of records')\n",
    "\n"
   ]
  },
  {
   "cell_type": "code",
   "execution_count": null,
   "id": "9e2ab804",
   "metadata": {},
   "outputs": [],
   "source": []
  }
 ],
 "metadata": {
  "kernelspec": {
   "display_name": "Python 3",
   "language": "python",
   "name": "python3"
  },
  "language_info": {
   "codemirror_mode": {
    "name": "ipython",
    "version": 3
   },
   "file_extension": ".py",
   "mimetype": "text/x-python",
   "name": "python",
   "nbconvert_exporter": "python",
   "pygments_lexer": "ipython3",
   "version": "3.8.8"
  }
 },
 "nbformat": 4,
 "nbformat_minor": 5
}
