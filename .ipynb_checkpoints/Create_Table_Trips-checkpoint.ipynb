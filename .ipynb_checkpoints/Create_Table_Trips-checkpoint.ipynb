{
 "cells": [
  {
   "cell_type": "code",
   "execution_count": 1,
   "id": "1ecf1e93",
   "metadata": {},
   "outputs": [
    {
     "data": {
      "text/plain": [
       "<pyodbc.Cursor at 0x228ea918eb0>"
      ]
     },
     "execution_count": 1,
     "metadata": {},
     "output_type": "execute_result"
    }
   ],
   "source": [
    "import pandas as pd\n",
    "import pyodbc\n",
    "import socket\n",
    "\n",
    "servername = socket.gethostname()\n",
    "\n",
    "#Create connection to local server\n",
    "try:\n",
    "    conn = pyodbc.connect('Driver={SQL Server};Server='+servername+';Database=Test;Trusted_Connection=yes;')\n",
    "    cursor = conn.cursor()\n",
    "except:\n",
    "    print('Error when connecting to Local Server: ' + str(servername))\n",
    "\n",
    "#If the table doesn't already exists, create it\n",
    "try:\n",
    "    cursor.execute('''\n",
    "    IF EXISTS \n",
    "      (SELECT object_id FROM sys.tables\n",
    "      WHERE name = 'Trips'\n",
    "      )\n",
    "        PRINT 'The table does already exist';\n",
    "    ELSE \n",
    "      CREATE TABLE Trips(\n",
    "        region nvarchar(100),\n",
    "        origin_coord nvarchar(100),\n",
    "        destination_coord nvarchar(100),\n",
    "        date_time datetime2,\n",
    "        datasource nvarchar(100)\n",
    "        ) ;\n",
    "                   ''')\n",
    "    \n",
    "    print('Trips table successfully created')\n",
    "except:\n",
    "    print('Error when creating Trips table')\n",
    "\n"
   ]
  },
  {
   "cell_type": "code",
   "execution_count": null,
   "id": "9e2ab804",
   "metadata": {},
   "outputs": [],
   "source": []
  }
 ],
 "metadata": {
  "kernelspec": {
   "display_name": "Python 3",
   "language": "python",
   "name": "python3"
  },
  "language_info": {
   "codemirror_mode": {
    "name": "ipython",
    "version": 3
   },
   "file_extension": ".py",
   "mimetype": "text/x-python",
   "name": "python",
   "nbconvert_exporter": "python",
   "pygments_lexer": "ipython3",
   "version": "3.8.8"
  }
 },
 "nbformat": 4,
 "nbformat_minor": 5
}
