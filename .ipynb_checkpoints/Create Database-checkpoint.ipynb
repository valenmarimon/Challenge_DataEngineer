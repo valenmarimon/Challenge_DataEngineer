{
 "cells": [
  {
   "cell_type": "code",
   "execution_count": 8,
   "id": "1ecf1e93",
   "metadata": {},
   "outputs": [
    {
     "data": {
      "text/plain": [
       "<pyodbc.Cursor at 0x209475d33b0>"
      ]
     },
     "execution_count": 8,
     "metadata": {},
     "output_type": "execute_result"
    }
   ],
   "source": [
    "import pandas as pd\n",
    "import pyodbc\n",
    "import socket\n",
    "servername = socket.gethostname()\n",
    "\n",
    "#Create connection to localhost\n",
    "conn = pyodbc.connect('Driver={SQL Server};Server='+servername+';Database=Master;Trusted_Connection=yes;')\n",
    "cursor = conn.cursor()\n",
    "conn.autocommit = True\n",
    "\n",
    "#If the database doesn't already exists, create it\n",
    "cursor.execute('''IF DB_ID('Test') IS NULL\n",
    "                  CREATE DATABASE [Test]''')\n",
    "\n",
    "print('Success')"
   ]
  },
  {
   "cell_type": "code",
   "execution_count": null,
   "id": "6161bb1e",
   "metadata": {},
   "outputs": [],
   "source": []
  }
 ],
 "metadata": {
  "kernelspec": {
   "display_name": "Python 3",
   "language": "python",
   "name": "python3"
  },
  "language_info": {
   "codemirror_mode": {
    "name": "ipython",
    "version": 3
   },
   "file_extension": ".py",
   "mimetype": "text/x-python",
   "name": "python",
   "nbconvert_exporter": "python",
   "pygments_lexer": "ipython3",
   "version": "3.8.8"
  }
 },
 "nbformat": 4,
 "nbformat_minor": 5
}
