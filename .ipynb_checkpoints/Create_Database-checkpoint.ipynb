{
 "cells": [
  {
   "cell_type": "code",
   "execution_count": 8,
   "id": "1ecf1e93",
   "metadata": {},
   "outputs": [
    {
     "data": {
      "text/plain": [
       "<pyodbc.Cursor at 0x209475d33b0>"
      ]
     },
     "execution_count": 8,
     "metadata": {},
     "output_type": "execute_result"
    }
   ],
   "source": [
    "import pandas as pd\n",
    "import pyodbc\n",
    "import socket\n",
    "servername = socket.gethostname()\n",
    "\n",
    "#Create connection to local server\n",
    "try:\n",
    "    conn = pyodbc.connect('Driver={SQL Server};Server='+servername+';Database=Test;Trusted_Connection=yes;')\n",
    "    cursor = conn.cursor()\n",
    "    conn.autocommit = True\n",
    "except:\n",
    "    print('Error when connecting to Local Server: ' + str(servername))\n",
    "\n",
    "#If the database doesn't already exists, create it\n",
    "try:\n",
    "    cursor.execute('''IF DB_ID('Test') IS NULL\n",
    "                      CREATE DATABASE [Test]''')\n",
    "    print('Database created successfully')\n",
    "except:\n",
    "    print('Error when creating the database')"
   ]
  },
  {
   "cell_type": "code",
   "execution_count": null,
   "id": "9e2ab804",
   "metadata": {},
   "outputs": [],
   "source": []
  }
 ],
 "metadata": {
  "kernelspec": {
   "display_name": "Python 3",
   "language": "python",
   "name": "python3"
  },
  "language_info": {
   "codemirror_mode": {
    "name": "ipython",
    "version": 3
   },
   "file_extension": ".py",
   "mimetype": "text/x-python",
   "name": "python",
   "nbconvert_exporter": "python",
   "pygments_lexer": "ipython3",
   "version": "3.8.8"
  }
 },
 "nbformat": 4,
 "nbformat_minor": 5
}
