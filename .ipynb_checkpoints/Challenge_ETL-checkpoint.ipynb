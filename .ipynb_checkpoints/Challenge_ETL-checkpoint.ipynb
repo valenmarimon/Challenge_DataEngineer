{
 "cells": [
  {
   "cell_type": "code",
   "execution_count": 1,
   "id": "64a6328d",
   "metadata": {},
   "outputs": [],
   "source": [
    "import pandas as pd\n",
    "import pyodbc\n",
    "\n",
    "url = 'trips.csv'\n",
    "df = pd.read_csv(url)\n"
   ]
  },
  {
   "cell_type": "code",
   "execution_count": 11,
   "id": "408a98e6",
   "metadata": {},
   "outputs": [
    {
     "data": {
      "text/plain": [
       "<pyodbc.Cursor at 0x284dcea8830>"
      ]
     },
     "execution_count": 11,
     "metadata": {},
     "output_type": "execute_result"
    }
   ],
   "source": [
    "import socket\n",
    "servername = socket.gethostname()\n",
    "\n",
    "#Create connection to local database\n",
    "conn = pyodbc.connect('Driver={SQL Server};Server='+servername+';Database=Test;Trusted_Connection=yes;')\n",
    "cursor = conn.cursor()\n",
    "\n",
    "#If the table doesn't already exists, create it\n",
    "cursor.execute('''\n",
    "IF EXISTS \n",
    "  (SELECT object_id FROM sys.tables\n",
    "  WHERE name = 'Trips'\n",
    "  )\n",
    "    PRINT 'The table does already exist';\n",
    "ELSE \n",
    "  CREATE TABLE Trips(\n",
    "    region nvarchar(100),\n",
    "    origin_coord nvarchar(100),\n",
    "    destination_coord nvarchar(100),\n",
    "    date_time datetime2,\n",
    "    datasource nvarchar(100)\n",
    "    ) ;\n",
    "               ''')\n"
   ]
  },
  {
   "cell_type": "code",
   "execution_count": null,
   "id": "9ad389b6",
   "metadata": {},
   "outputs": [],
   "source": [
    "# Excecute insert into Table Trips\n",
    "for row in df.itertuples():\n",
    "    cursor.execute('''\n",
    "                INSERT INTO Trips (region, origin_coord, destination_coord,date_time,datasource)\n",
    "                VALUES (?,?,?,?,?)\n",
    "                ''',\n",
    "                row.region, \n",
    "                row.origin_coord,\n",
    "                row.destination_coord,\n",
    "                row.datetime,\n",
    "                row.datasource\n",
    "                )\n",
    "conn.commit()"
   ]
  },
  {
   "cell_type": "code",
   "execution_count": null,
   "id": "48acd6a2",
   "metadata": {},
   "outputs": [],
   "source": []
  },
  {
   "cell_type": "code",
   "execution_count": 3,
   "id": "923ee427",
   "metadata": {
    "scrolled": true
   },
   "outputs": [
    {
     "name": "stdout",
     "output_type": "stream",
     "text": [
      "   Year Week_number  Trips_avg_by_week\n",
      "0  2018          18                  2\n",
      "1  2018          19                  1\n",
      "2  2018          20                  1\n",
      "3  2018          21                  2\n",
      "4  2018          22                  1\n"
     ]
    }
   ],
   "source": [
    "def avg_Region(reg_selected):\n",
    "    ## Execute query to determine the average by week for given Region\n",
    "        ## First, I sum up all trips by day for the given Region\n",
    "        ## Then, I get the average for each week of the year\n",
    "    query = cursor.execute('''\n",
    "    with Counts as (\n",
    "        SELECT  cast(date_time as date) as datee, count(1) as cnt\n",
    "        FROM    Trips\n",
    "        where region=LOWER(?)\n",
    "        GROUP BY cast(date_time as date)\n",
    "    )\n",
    "\n",
    "    SELECT  datepart(YYYY,datee) as Year,DATENAME(ww, datee) as Week_number, avg(cnt) as Trips_avg_by_week\n",
    "    FROM    Counts\n",
    "    GROUP BY datepart(YYYY,datee),DATENAME(ww, datee)\n",
    "    ''',\n",
    "    reg_selected) \n",
    "    new=pd.DataFrame(query)\n",
    "\n",
    "    df_avg=pd.DataFrame()\n",
    "    for index,row in new.iterrows():\n",
    "        dic={}\n",
    "        for i in range(0,3):\n",
    "            if i==0:\n",
    "                dic['Year']=row[0][i]\n",
    "            elif i==1:\n",
    "                dic['Week_number']=row[0][i]\n",
    "            else: dic['Trips_avg_by_week']=row[0][i]\n",
    "        df_avg = df_avg.append(pd.DataFrame(dic,index=[index]))\n",
    "\n",
    "            \n",
    "    print(df_avg)\n",
    "\n",
    "    "
   ]
  },
  {
   "cell_type": "code",
   "execution_count": null,
   "id": "3105067c",
   "metadata": {},
   "outputs": [],
   "source": []
  },
  {
   "cell_type": "code",
   "execution_count": 4,
   "id": "19cef67a",
   "metadata": {},
   "outputs": [],
   "source": [
    "def determine_BoundBox():\n",
    "    bound_box=[]\n",
    "    for i in range(1,5):\n",
    "                    x=0\n",
    "                    y=0\n",
    "                    x=float(input('Input X coordinate for point ' + str(i)+ ':'))\n",
    "                    y=float(input('Input Y coordinate for point ' + str(i)+ ':'))\n",
    "                    xy_coord=(x,y)\n",
    "                    bound_box.append(xy_coord)\n",
    "    #Show the 4 coordinates of the Bounding Box\n",
    "    print (bound_box)\n",
    "    \n",
    "    #Determine minimum and maximum values for each coordinate of the Bounding Box\n",
    "    minx=bound_box[0][0]\n",
    "    maxx=bound_box[0][0]\n",
    "    maxy=bound_box[0][1]\n",
    "    miny=bound_box[0][1]\n",
    "    for seq in bound_box:\n",
    "        if seq[0]<minx: minx=seq[0]\n",
    "        if seq[0]>maxx: maxx=seq[0]\n",
    "        if seq[1]<miny: miny=seq[1]\n",
    "        if seq[1]>maxy: maxy=seq[1]\n",
    "    print('Minimun value for X coordinate: ' , str(minx))\n",
    "    print('Maximum value for X coordinate: ' , str(maxx))\n",
    "    print('Maximum value for Y coordinate: ' , str(maxy))\n",
    "    print('Minimun value for Y coordinate: ',str(miny))\n",
    "\n"
   ]
  },
  {
   "cell_type": "code",
   "execution_count": null,
   "id": "ef798fb2",
   "metadata": {},
   "outputs": [],
   "source": []
  },
  {
   "cell_type": "code",
   "execution_count": 6,
   "id": "b39b1475",
   "metadata": {},
   "outputs": [],
   "source": [
    "def avg_Coord():\n",
    "    bound_box=[]\n",
    "    for i in range(1,5):\n",
    "                    x=0\n",
    "                    y=0\n",
    "                    x=float(input('Input X coordinate for point ' + str(i)+ ':'))\n",
    "                    y=float(input('Input Y coordinate for point ' + str(i)+ ':'))\n",
    "                    xy_coord=(x,y)\n",
    "                    bound_box.append(xy_coord)\n",
    "    #Show the 4 coordinates of the Bounding Box\n",
    "    # print (bound_box)\n",
    "    \n",
    "    #Determine minimum and maximum values for each coordinate of the Bounding Box\n",
    "    minx=bound_box[0][0]\n",
    "    maxx=bound_box[0][0]\n",
    "    maxy=bound_box[0][1]\n",
    "    miny=bound_box[0][1]\n",
    "    for seq in bound_box:\n",
    "        if seq[0]<minx: minx=seq[0]\n",
    "        if seq[0]>maxx: maxx=seq[0]\n",
    "        if seq[1]<miny: miny=seq[1]\n",
    "        if seq[1]>maxy: maxy=seq[1]\n",
    "    print('Minimum value for X coordinate: ' , str(minx))\n",
    "    print('Maximum value for X coordinate: ' , str(maxx))\n",
    "    print('Maximum value for Y coordinate: ' , str(maxy))\n",
    "    print('Minimun value for Y coordinate: ',str(miny))\n",
    "    \n",
    "    # Given a point, if the origin coordinates are within minimum and maximum values determined in the previous step,\n",
    "    # the trip should be considered in the average\n",
    "    # I query all the trips that have an origin within the Bounding Box and get the weekly average\n",
    "    query = cursor.execute('''\n",
    "    with t2 as (\n",
    "\n",
    "        Select * from (\n",
    "\n",
    "            SELECT \n",
    "            LEFT(FORMATTED,CHARINDEX(' ', FORMATTED)-1) as first_coord,\n",
    "            SUBSTRING(FORMATTED,CHARINDEX(' ', FORMATTED)+1,LEN(FORMATTED)) as second_coord,\n",
    "            Cast(date_time as date) as date_form\n",
    "            FROM (\n",
    "            select \n",
    "            SUBSTRING(LEFT(origin_coord,LEN(origin_coord)-1),CHARINDEX('(',LEFT(origin_coord,LEN(origin_coord)-1))+1,LEN(LEFT(origin_coord,LEN(origin_coord)-1))) FORMATTED,\n",
    "            date_time\n",
    "            FROM TRIPS ) t1\n",
    "            ) as te\n",
    "            WHERE  cast(? as float) <  cast(first_coord as float) \n",
    "            and cast(first_coord as float) < cast(? as float)\n",
    "            and cast(? as float) < cast(second_coord as float)\n",
    "            and cast(second_coord as float) < cast(? as float)\n",
    "        )\n",
    "\n",
    "\n",
    "        SELECT  datepart(YYYY,date_form) as Year,\n",
    "        DATENAME(ww, date_form) as Week_number, \n",
    "        avg(cnt) as Trips_avg_by_week\n",
    "        FROM (\n",
    "            SELECT date_form, count(1) as cnt\n",
    "            FROM    t2\n",
    "            GROUP BY date_form) as test\n",
    "        GROUP BY datepart(YYYY,date_form),DATENAME(ww, date_form)\n",
    "     ''',\n",
    "        minx,\n",
    "        maxx,\n",
    "        miny,\n",
    "        maxy\n",
    "        ) \n",
    "    new=pd.DataFrame(query)\n",
    "\n",
    "    df_avg=pd.DataFrame()\n",
    "    for index,row in new.iterrows():\n",
    "        dic={}\n",
    "        for i in range(0,3):\n",
    "            if i==0:\n",
    "                dic['Year']=row[0][i]\n",
    "            elif i==1:\n",
    "                dic['Week_number']=row[0][i]\n",
    "            else: dic['Trips_avg_by_week']=row[0][i]\n",
    "        df_avg = df_avg.append(pd.DataFrame(dic,index=[index]))\n",
    "\n",
    "            \n",
    "    print(df_avg)\n",
    "\n"
   ]
  },
  {
   "cell_type": "code",
   "execution_count": 7,
   "id": "b675a6de",
   "metadata": {},
   "outputs": [
    {
     "name": "stdout",
     "output_type": "stream",
     "text": [
      "Obtain weekly average number of trips by coordinates(1) or by region(2): 1\n",
      "Input X coordinate for point 1:10.00384920850646\n",
      "Input Y coordinate for point 1:53.65220121071665\n",
      "Input X coordinate for point 2:7.513135087952872\n",
      "Input Y coordinate for point 2:45.04417775442011\n",
      "Input X coordinate for point 3:14.65848565403607\n",
      "Input Y coordinate for point 3:50.11571340810843\n",
      "Input X coordinate for point 4:14.34394689715277\n",
      "Input Y coordinate for point 4:50.12299688052901\n",
      "Minimun value for X coordinate:  7.513135087952872\n",
      "Maximum value for X coordinate:  14.65848565403607\n",
      "Maximum value for Y coordinate:  53.65220121071665\n",
      "Minimun value for Y coordinate:  45.04417775442011\n",
      "   Year Week_number  Trips_avg_by_week\n",
      "0  2018          18                  3\n",
      "1  2018          19                  2\n",
      "2  2018          20                  2\n",
      "3  2018          21                  4\n",
      "4  2018          22                  3\n"
     ]
    }
   ],
   "source": [
    "#Point 3. Develop a way to obtain the weekly average number of trips for an area, defined by a\n",
    "# bounding box (given by coordinates) or by a region.\n",
    "try:  \n",
    "    while True:\n",
    "        opt = int(input('Obtain weekly average number of trips by coordinates(1) or by region(2) or escape(3): '))\n",
    "        if opt==1:\n",
    "            avg_Coord()    \n",
    "            break\n",
    "        elif opt==2:\n",
    "            reg_selected = str(input('Region you want to select:')).lower()\n",
    "            avg_Region(reg_selected)\n",
    "            break\n",
    "        elif opt==3:\n",
    "            print('Get out')\n",
    "            break\n",
    "        else: \n",
    "            print('Not a valid number')\n",
    "            continue\n",
    "        \n",
    "except: print('Not a number')\n"
   ]
  },
  {
   "cell_type": "code",
   "execution_count": 10,
   "id": "1aacea3f",
   "metadata": {},
   "outputs": [
    {
     "name": "stdout",
     "output_type": "stream",
     "text": [
      "DESKTOP-0CEK0R4\n"
     ]
    }
   ],
   "source": []
  },
  {
   "cell_type": "code",
   "execution_count": 7,
   "id": "db0d02d7",
   "metadata": {},
   "outputs": [],
   "source": [
    "from google_drive_downloader import GoogleDriveDownloader as gdd\n",
    "\n",
    "gdd.download_file_from_google_drive(file_id='14JcOSJAWqKOUNyadVZDPm7FplA7XYhrU',\n",
    "                                    dest_path='.\\Data Science\\Archivos clases')"
   ]
  },
  {
   "cell_type": "code",
   "execution_count": null,
   "id": "1ecf1e93",
   "metadata": {},
   "outputs": [],
   "source": []
  }
 ],
 "metadata": {
  "kernelspec": {
   "display_name": "Python 3",
   "language": "python",
   "name": "python3"
  },
  "language_info": {
   "codemirror_mode": {
    "name": "ipython",
    "version": 3
   },
   "file_extension": ".py",
   "mimetype": "text/x-python",
   "name": "python",
   "nbconvert_exporter": "python",
   "pygments_lexer": "ipython3",
   "version": "3.8.8"
  }
 },
 "nbformat": 4,
 "nbformat_minor": 5
}
